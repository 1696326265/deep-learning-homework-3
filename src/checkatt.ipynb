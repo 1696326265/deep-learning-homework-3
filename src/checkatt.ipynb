{
 "cells": [
  {
   "cell_type": "code",
   "execution_count": 1,
   "id": "594dbbb4",
   "metadata": {},
   "outputs": [],
   "source": [
    "import torch\n",
    "# device = torch.device(\"cuda\" if torch.cuda.is_available() else \"cpu\")\n",
    "device = torch.device(\"cpu\")"
   ]
  },
  {
   "cell_type": "code",
   "execution_count": 2,
   "id": "037c2877",
   "metadata": {},
   "outputs": [],
   "source": [
    "import torch\n",
    "import torch.nn as nn\n",
    "import math\n",
    "\n",
    "class PositionalEncoding(nn.Module):\n",
    "\n",
    "    def __init__(self, d_model, dropout=0.1, max_len=5000):\n",
    "        super(PositionalEncoding, self).__init__()\n",
    "        self.dropout = nn.Dropout(p=dropout)\n",
    "\n",
    "        pe = torch.zeros(max_len, d_model)\n",
    "        position = torch.arange(0, max_len, dtype=torch.float).unsqueeze(1)\n",
    "        div_term = torch.exp(torch.arange(0, d_model, 2).float() * (-math.log(10000.0) / d_model))\n",
    "        pe[:, 0::2] = torch.sin(position * div_term)\n",
    "        pe[:, 1::2] = torch.cos(position * div_term)\n",
    "        pe = pe.unsqueeze(0).transpose(0, 1)\n",
    "        self.register_buffer('pe', pe)\n",
    "\n",
    "    def forward(self, x, rat):\n",
    "        x = x + (self.pe[:x.size(0), :]) * rat\n",
    "        return self.dropout(x)\n",
    "\n",
    "class TFModule(nn.Module):\n",
    "    def __init__(self, vocab_size, embed_size, num_layers, num_hiddens, num_heads, embeddropout_rate, dropout_rate, pos_ratio):\n",
    "        super(TFModule, self).__init__()\n",
    "        self.embedding = nn.Embedding(vocab_size, embed_size)\n",
    "        self.pos_embed = PositionalEncoding(embed_size, embeddropout_rate, 1025)\n",
    "        self.pos_ratio = pos_ratio\n",
    "        \n",
    "        self.encoder_layer = nn.TransformerEncoderLayer(\n",
    "                                        d_model=embed_size,\n",
    "                                        dim_feedforward=num_hiddens,\n",
    "                                        nhead=num_heads, \n",
    "                                        dropout=dropout_rate, \n",
    "                                        activation='relu')\n",
    "        self.transformer_encoder = nn.TransformerEncoder(self.encoder_layer, num_layers=num_layers)\n",
    "        \n",
    "        self.decoder = nn.Linear(embed_size, vocab_size) # 初始时间步和最终时间步的隐藏状态作为全连接层输入\n",
    "\n",
    "    def _generate_square_subsequent_mask(self, sz):\n",
    "        mask = (torch.triu(torch.ones(sz, sz)) == 1).transpose(0, 1)\n",
    "        mask = mask.float().masked_fill(mask == 0, float('-inf')).masked_fill(mask == 1, float(0.0))\n",
    "        return mask.to(device)\n",
    "    \n",
    "    def forward(self, inputs):\n",
    "        \n",
    "        word_emb = self.embedding(inputs.permute(1, 0))\n",
    "        embeddings = self.pos_embed(word_emb, self.pos_ratio)\n",
    "        \n",
    "        outputs = self.transformer_encoder(embeddings, mask=self._generate_square_subsequent_mask(embeddings.shape[0]))\n",
    "\n",
    "        output = outputs.permute(1, 0, 2)\n",
    "        outs = output.reshape(output.size(0)*output.size(1), output.size(2))\n",
    "        ret = self.decoder(outs)\n",
    "        return ret"
   ]
  },
  {
   "cell_type": "code",
   "execution_count": null,
   "id": "fc6f1b38",
   "metadata": {},
   "outputs": [],
   "source": []
  },
  {
   "cell_type": "code",
   "execution_count": 3,
   "id": "7c635e0d",
   "metadata": {},
   "outputs": [],
   "source": [
    "import torch\n",
    "from torchtext.datasets import WikiText2\n",
    "from torchtext.data.utils import get_tokenizer\n",
    "from collections import Counter\n",
    "from torchtext.vocab import Vocab"
   ]
  },
  {
   "cell_type": "code",
   "execution_count": 4,
   "id": "1eafe600",
   "metadata": {},
   "outputs": [],
   "source": [
    "class Corpus(object):\n",
    "    def __init__(self, train_batch_size=20, eval_batch_size=10, bptt=35):\n",
    "        self.bptt = bptt\n",
    "        train_iter = WikiText2(split='train')\n",
    "        self.tokenizer = get_tokenizer('basic_english')\n",
    "        counter = Counter()\n",
    "        for line in train_iter:\n",
    "            counter.update(self.tokenizer(line))\n",
    "        self.vocab = Vocab(counter)\n",
    "        train_iter, val_iter, test_iter = WikiText2()\n",
    "        train_data = self.data_process(train_iter)\n",
    "        val_data = self.data_process(val_iter)\n",
    "        test_data = self.data_process(test_iter)\n",
    "\n",
    "        self.train_data = self.batchify(train_data, train_batch_size)\n",
    "        self.val_data = self.batchify(val_data, eval_batch_size)\n",
    "        self.test_data = self.batchify(test_data, eval_batch_size)\n",
    "\n",
    "    def data_process(self, raw_text_iter):\n",
    "        data = [torch.tensor([self.vocab[token] for token in self.tokenizer(item)],\n",
    "                           dtype=torch.long) for item in raw_text_iter]\n",
    "        return torch.cat(tuple(filter(lambda t: t.numel() > 0, data)))\n",
    "\n",
    "    def batchify(self, data, batch_size):\n",
    "        # Divide the dataset into batch_size parts.\n",
    "        nbatch = data.size(0) // batch_size\n",
    "        # Trim off any extra elements that wouldn't cleanly fit (remainders).\n",
    "        data = data.narrow(0, 0, nbatch * batch_size)\n",
    "        # Evenly divide the data across the batch_size batches.\n",
    "        data = data.view(batch_size, -1).t().contiguous()\n",
    "        return data.to(device)\n",
    "\n",
    "    def get_batch(self, source, i):\n",
    "        seq_len = min(self.bptt, len(source) - 1 - i)\n",
    "        data = source[i:i+seq_len]\n",
    "        target = source[i+1:i+1+seq_len].reshape(-1)\n",
    "        return data, target\n",
    "\n",
    "    def get_ntokens(self):\n",
    "        return len(self.vocab.stoi)"
   ]
  },
  {
   "cell_type": "code",
   "execution_count": 5,
   "id": "1cc41f3a",
   "metadata": {},
   "outputs": [],
   "source": [
    "import argparse\n",
    "import time\n",
    "import math\n",
    "import torch\n",
    "import torch.nn as nn\n",
    "from torch.autograd import Variable\n",
    "\n",
    "import data\n",
    "import model\n",
    "class args():\n",
    "    pos_ratio = 0.1\n",
    "    emsize = 100\n",
    "    nhid = 200\n",
    "    nlayers = 3\n",
    "    nhead = 20\n",
    "    lr = 0.5\n",
    "    epochs = 1000\n",
    "    batch_size = 32\n",
    "    bptt = 256\n",
    "    embeddropout = 0.1\n",
    "    dropout = 0.5\n",
    "    tied = False\n",
    "    seed = 1234\n",
    "    save = 'model.pt'"
   ]
  },
  {
   "cell_type": "code",
   "execution_count": null,
   "id": "77cf7f78",
   "metadata": {},
   "outputs": [],
   "source": []
  },
  {
   "cell_type": "code",
   "execution_count": 6,
   "id": "e1cd7957",
   "metadata": {},
   "outputs": [],
   "source": [
    "data_loader = Corpus(train_batch_size=args.batch_size,\n",
    "                     eval_batch_size=args.batch_size,\n",
    "                     bptt=args.bptt)"
   ]
  },
  {
   "cell_type": "code",
   "execution_count": 7,
   "id": "4cffaa8b",
   "metadata": {},
   "outputs": [],
   "source": [
    "ntokens = len(data_loader.vocab.itos)\n",
    "model = TFModule(ntokens, args.emsize, args.nlayers, args.nhid, args.nhead, args.embeddropout, args.dropout, args.pos_ratio)"
   ]
  },
  {
   "cell_type": "code",
   "execution_count": null,
   "id": "e30d7703",
   "metadata": {},
   "outputs": [],
   "source": []
  },
  {
   "cell_type": "code",
   "execution_count": 8,
   "id": "eb9446f3",
   "metadata": {},
   "outputs": [
    {
     "data": {
      "text/plain": [
       "TFModule(\n",
       "  (embedding): Embedding(28783, 100)\n",
       "  (pos_embed): PositionalEncoding(\n",
       "    (dropout): Dropout(p=0.1, inplace=False)\n",
       "  )\n",
       "  (encoder_layer): TransformerEncoderLayer(\n",
       "    (self_attn): MultiheadAttention(\n",
       "      (out_proj): _LinearWithBias(in_features=100, out_features=100, bias=True)\n",
       "    )\n",
       "    (linear1): Linear(in_features=100, out_features=200, bias=True)\n",
       "    (dropout): Dropout(p=0.5, inplace=False)\n",
       "    (linear2): Linear(in_features=200, out_features=100, bias=True)\n",
       "    (norm1): LayerNorm((100,), eps=1e-05, elementwise_affine=True)\n",
       "    (norm2): LayerNorm((100,), eps=1e-05, elementwise_affine=True)\n",
       "    (dropout1): Dropout(p=0.5, inplace=False)\n",
       "    (dropout2): Dropout(p=0.5, inplace=False)\n",
       "  )\n",
       "  (transformer_encoder): TransformerEncoder(\n",
       "    (layers): ModuleList(\n",
       "      (0): TransformerEncoderLayer(\n",
       "        (self_attn): MultiheadAttention(\n",
       "          (out_proj): _LinearWithBias(in_features=100, out_features=100, bias=True)\n",
       "        )\n",
       "        (linear1): Linear(in_features=100, out_features=200, bias=True)\n",
       "        (dropout): Dropout(p=0.5, inplace=False)\n",
       "        (linear2): Linear(in_features=200, out_features=100, bias=True)\n",
       "        (norm1): LayerNorm((100,), eps=1e-05, elementwise_affine=True)\n",
       "        (norm2): LayerNorm((100,), eps=1e-05, elementwise_affine=True)\n",
       "        (dropout1): Dropout(p=0.5, inplace=False)\n",
       "        (dropout2): Dropout(p=0.5, inplace=False)\n",
       "      )\n",
       "      (1): TransformerEncoderLayer(\n",
       "        (self_attn): MultiheadAttention(\n",
       "          (out_proj): _LinearWithBias(in_features=100, out_features=100, bias=True)\n",
       "        )\n",
       "        (linear1): Linear(in_features=100, out_features=200, bias=True)\n",
       "        (dropout): Dropout(p=0.5, inplace=False)\n",
       "        (linear2): Linear(in_features=200, out_features=100, bias=True)\n",
       "        (norm1): LayerNorm((100,), eps=1e-05, elementwise_affine=True)\n",
       "        (norm2): LayerNorm((100,), eps=1e-05, elementwise_affine=True)\n",
       "        (dropout1): Dropout(p=0.5, inplace=False)\n",
       "        (dropout2): Dropout(p=0.5, inplace=False)\n",
       "      )\n",
       "      (2): TransformerEncoderLayer(\n",
       "        (self_attn): MultiheadAttention(\n",
       "          (out_proj): _LinearWithBias(in_features=100, out_features=100, bias=True)\n",
       "        )\n",
       "        (linear1): Linear(in_features=100, out_features=200, bias=True)\n",
       "        (dropout): Dropout(p=0.5, inplace=False)\n",
       "        (linear2): Linear(in_features=200, out_features=100, bias=True)\n",
       "        (norm1): LayerNorm((100,), eps=1e-05, elementwise_affine=True)\n",
       "        (norm2): LayerNorm((100,), eps=1e-05, elementwise_affine=True)\n",
       "        (dropout1): Dropout(p=0.5, inplace=False)\n",
       "        (dropout2): Dropout(p=0.5, inplace=False)\n",
       "      )\n",
       "    )\n",
       "  )\n",
       "  (decoder): Linear(in_features=100, out_features=28783, bias=True)\n",
       ")"
      ]
     },
     "execution_count": 8,
     "metadata": {},
     "output_type": "execute_result"
    }
   ],
   "source": [
    "model"
   ]
  },
  {
   "cell_type": "code",
   "execution_count": 17,
   "id": "25c47210",
   "metadata": {},
   "outputs": [
    {
     "name": "stdout",
     "output_type": "stream",
     "text": [
      "TransformerEncoderLayer(\n",
      "  (self_attn): MultiheadAttention(\n",
      "    (out_proj): _LinearWithBias(in_features=100, out_features=100, bias=True)\n",
      "  )\n",
      "  (linear1): Linear(in_features=100, out_features=200, bias=True)\n",
      "  (dropout): Dropout(p=0.5, inplace=False)\n",
      "  (linear2): Linear(in_features=200, out_features=100, bias=True)\n",
      "  (norm1): LayerNorm((100,), eps=1e-05, elementwise_affine=True)\n",
      "  (norm2): LayerNorm((100,), eps=1e-05, elementwise_affine=True)\n",
      "  (dropout1): Dropout(p=0.5, inplace=False)\n",
      "  (dropout2): Dropout(p=0.5, inplace=False)\n",
      ")\n",
      "TransformerEncoderLayer(\n",
      "  (self_attn): MultiheadAttention(\n",
      "    (out_proj): _LinearWithBias(in_features=100, out_features=100, bias=True)\n",
      "  )\n",
      "  (linear1): Linear(in_features=100, out_features=200, bias=True)\n",
      "  (dropout): Dropout(p=0.5, inplace=False)\n",
      "  (linear2): Linear(in_features=200, out_features=100, bias=True)\n",
      "  (norm1): LayerNorm((100,), eps=1e-05, elementwise_affine=True)\n",
      "  (norm2): LayerNorm((100,), eps=1e-05, elementwise_affine=True)\n",
      "  (dropout1): Dropout(p=0.5, inplace=False)\n",
      "  (dropout2): Dropout(p=0.5, inplace=False)\n",
      ")\n",
      "TransformerEncoderLayer(\n",
      "  (self_attn): MultiheadAttention(\n",
      "    (out_proj): _LinearWithBias(in_features=100, out_features=100, bias=True)\n",
      "  )\n",
      "  (linear1): Linear(in_features=100, out_features=200, bias=True)\n",
      "  (dropout): Dropout(p=0.5, inplace=False)\n",
      "  (linear2): Linear(in_features=200, out_features=100, bias=True)\n",
      "  (norm1): LayerNorm((100,), eps=1e-05, elementwise_affine=True)\n",
      "  (norm2): LayerNorm((100,), eps=1e-05, elementwise_affine=True)\n",
      "  (dropout1): Dropout(p=0.5, inplace=False)\n",
      "  (dropout2): Dropout(p=0.5, inplace=False)\n",
      ")\n"
     ]
    }
   ],
   "source": [
    "model.transformer_encoder.layers[0].self_attn\n",
    "for o in model.transformer_encoder.layers:\n",
    "    print(o)"
   ]
  },
  {
   "cell_type": "code",
   "execution_count": 10,
   "id": "4d46427d",
   "metadata": {},
   "outputs": [
    {
     "name": "stdout",
     "output_type": "stream",
     "text": [
      "torch.Size([3, 2, 100]) torch.Size([2, 3, 3]) \n",
      " tensor([[[1.2000, 0.0000, 0.0000],\n",
      "         [0.4409, 0.5018, 0.0000],\n",
      "         [0.3238, 0.3426, 0.2377]],\n",
      "\n",
      "        [[1.2000, 0.0000, 0.0000],\n",
      "         [0.4189, 0.3533, 0.0000],\n",
      "         [0.2025, 0.3316, 0.3314]]], grad_fn=<DivBackward0>)\n"
     ]
    }
   ],
   "source": [
    "if 1:\n",
    "    src = torch.rand(3,2,100)\n",
    "    A, B = model.transformer_encoder.layers[0].self_attn(src, src, src, attn_mask = model._generate_square_subsequent_mask(src.shape[0]))\n",
    "    print(src.shape,B.shape,\"\\n\",B)"
   ]
  },
  {
   "cell_type": "code",
   "execution_count": 11,
   "id": "48d5d0f6",
   "metadata": {},
   "outputs": [
    {
     "data": {
      "text/plain": [
       "tensor([[0.6419, 0.2552, 0.7288],\n",
       "        [0.2828, 0.3613, 0.2864]])"
      ]
     },
     "execution_count": 11,
     "metadata": {},
     "output_type": "execute_result"
    }
   ],
   "source": [
    "torch.rand(2,3)"
   ]
  },
  {
   "cell_type": "code",
   "execution_count": null,
   "id": "b63e39d3",
   "metadata": {},
   "outputs": [],
   "source": []
  },
  {
   "cell_type": "code",
   "execution_count": 60,
   "id": "91d72d53",
   "metadata": {},
   "outputs": [
    {
     "data": {
      "text/plain": [
       "<All keys matched successfully>"
      ]
     },
     "execution_count": 60,
     "metadata": {},
     "output_type": "execute_result"
    }
   ],
   "source": [
    "test1 = \"i get up , eat bread milk .\"\n",
    "test2 = \"i get up , drink bread milk .\"\n",
    "model.load_state_dict(torch.load('parameter-2.pkl'))"
   ]
  },
  {
   "cell_type": "code",
   "execution_count": 61,
   "id": "33c0aa7b",
   "metadata": {},
   "outputs": [
    {
     "name": "stdout",
     "output_type": "stream",
     "text": [
      "[65, 647, 75, 3, 4338, 5450, 5751, 4]\n",
      "torch.Size([1, 8, 8])\n",
      "tensor([0.1590, 0.0871, 0.1049, 0.0998, 0.1236, 0.1488, 0.1014, 0.1753],\n",
      "       grad_fn=<SliceBackward>)\n",
      "tensor([0.1489, 0.1411, 0.0488, 0.2099, 0.0933, 0.0735, 0.0806, 0.2040],\n",
      "       grad_fn=<SliceBackward>)\n",
      "tensor([0.1492, 0.1680, 0.0538, 0.2073, 0.0397, 0.0729, 0.0627, 0.2463],\n",
      "       grad_fn=<SliceBackward>)\n",
      "fin\n"
     ]
    }
   ],
   "source": [
    "def fuck(s):\n",
    "    model.eval()\n",
    "    a = s.split(' ')\n",
    "    l = len(a)\n",
    "    src = []\n",
    "    for o in a:\n",
    "        src.append(data_loader.vocab.stoi[o])\n",
    "    print(src)\n",
    "    src = torch.tensor(src).reshape(1,l)\n",
    "    \n",
    "    word_emb = model.embedding(src.permute(1, 0))\n",
    "    embeddings = model.pos_embed(word_emb, model.pos_ratio)\n",
    "    \n",
    "    msk = model._generate_square_subsequent_mask(embeddings.shape[0])\n",
    "    for i in range(embeddings.shape[0]):\n",
    "        for j in range(embeddings.shape[0]):\n",
    "            msk[i,j]=0.\n",
    "    \n",
    "    outputs0 = model.transformer_encoder.layers[0](embeddings, src_mask=msk)\n",
    "    outputs1 = model.transformer_encoder.layers[1](outputs0, src_mask=msk)\n",
    "    outputs2 = model.transformer_encoder.layers[2](outputs1, src_mask=msk)\n",
    "    \n",
    "    outputs = model.transformer_encoder(embeddings, mask=msk)\n",
    "    \n",
    "#     print(outputs)\n",
    "#     print(outputs2)\n",
    "    _, att0 = model.transformer_encoder.layers[0].self_attn(embeddings, embeddings, embeddings, attn_mask=msk)\n",
    "    _, att1 = model.transformer_encoder.layers[1].self_attn(outputs0, outputs0, outputs0, attn_mask=msk)\n",
    "    _, att2 = model.transformer_encoder.layers[2].self_attn(outputs1, outputs1, outputs1, attn_mask=msk)\n",
    "    print(att0.shape)\n",
    "    print(att0[0,4,:])\n",
    "    print(att1[0,4,:])\n",
    "    print(att2[0,4,:])\n",
    "#     print(att0)\n",
    "#     print(att1)\n",
    "#     print(att2)\n",
    "    return att0, att1, att2\n",
    "    \n",
    "fuck(test1)\n",
    "print(\"fin\")"
   ]
  },
  {
   "cell_type": "code",
   "execution_count": 62,
   "id": "76624a57",
   "metadata": {},
   "outputs": [
    {
     "name": "stdout",
     "output_type": "stream",
     "text": [
      "[65, 647, 75, 3, 7429, 5450, 5751, 4]\n",
      "torch.Size([1, 8, 8])\n",
      "tensor([0.1486, 0.1242, 0.1031, 0.1784, 0.0908, 0.0983, 0.1141, 0.1424],\n",
      "       grad_fn=<SliceBackward>)\n",
      "tensor([0.1450, 0.1371, 0.0592, 0.1716, 0.0799, 0.0796, 0.1058, 0.2218],\n",
      "       grad_fn=<SliceBackward>)\n",
      "tensor([0.1311, 0.1519, 0.0516, 0.2215, 0.0423, 0.0600, 0.0574, 0.2841],\n",
      "       grad_fn=<SliceBackward>)\n",
      "fin\n"
     ]
    }
   ],
   "source": [
    "\n",
    "fuck(test2)\n",
    "print(\"fin\")"
   ]
  },
  {
   "cell_type": "code",
   "execution_count": null,
   "id": "63c4c11d",
   "metadata": {},
   "outputs": [],
   "source": []
  },
  {
   "cell_type": "code",
   "execution_count": 114,
   "id": "49c53e79",
   "metadata": {},
   "outputs": [
    {
     "name": "stdout",
     "output_type": "stream",
     "text": [
      "[65, 647, 75, 3, 4338, 5450, 5751, 4]\n",
      "torch.Size([1, 8, 8])\n",
      "tensor([0.1590, 0.0871, 0.1049, 0.0998, 0.1236, 0.1488, 0.1014, 0.1753],\n",
      "       grad_fn=<SliceBackward>)\n",
      "tensor([0.1489, 0.1411, 0.0488, 0.2099, 0.0933, 0.0735, 0.0806, 0.2040],\n",
      "       grad_fn=<SliceBackward>)\n",
      "tensor([0.1492, 0.1680, 0.0538, 0.2073, 0.0397, 0.0729, 0.0627, 0.2463],\n",
      "       grad_fn=<SliceBackward>)\n",
      "tensor(0.8899, grad_fn=<MulBackward0>)\n",
      "tensor(0.1705, grad_fn=<MulBackward0>)\n",
      "tensor(0.3494, grad_fn=<MulBackward0>)\n",
      "tensor(0.2983, grad_fn=<MulBackward0>)\n",
      "tensor(0.5357, grad_fn=<MulBackward0>)\n",
      "tensor(0.7885, grad_fn=<MulBackward0>)\n",
      "tensor(0.3142, grad_fn=<MulBackward0>)\n",
      "1.0\n"
     ]
    },
    {
     "data": {
      "image/png": "[encoded data removed]",
      "text/plain": [
       "<Figure size 720x432 with 1 Axes>"
      ]
     },
     "metadata": {
      "needs_background": "light"
     },
     "output_type": "display_data"
    }
   ],
   "source": [
    "import numpy as np\n",
    "import matplotlib.pyplot as plt \n",
    "plt.figure(figsize=(10,6))\n",
    " \n",
    "#直线\n",
    "x1=np.arange(-20, 20, 1)\n",
    "x2=(3*x1-12)/2\n",
    "\n",
    "n = 8\n",
    "\n",
    "X = []\n",
    "Y = []\n",
    "for i in range(n):\n",
    "    X.append([])\n",
    "    Y.append([])\n",
    "    for j in range(n):\n",
    "        x = np.arange(0,100,1) # 0,(n-i)*10 -> 100, (n-j)*10\n",
    "        y = (((n-j)*10-(n-i)*10)/100)*x + (n-i)*10\n",
    "        X[-1].append(x)\n",
    "        Y[-1].append(y)\n",
    "\n",
    "\n",
    "\n",
    "def getchar(i):\n",
    "    if i<10: return str(i)\n",
    "    return chr(i-10+ord('A'))\n",
    "def gencolor(rat):\n",
    "    num = int((1-rat)*255)\n",
    "    return '#'+getchar(num//16)+getchar(num%16)+'FFFF'\n",
    "\n",
    "# plt.plot(x1,x2,color=gencolor(0.1)) \n",
    "\n",
    "tab0, tab1, tab2 = fuck(test1)\n",
    "tab0 = tab0.reshape(n,n)\n",
    "tab1 = tab1.reshape(n,n)\n",
    "tab2 = tab2.reshape(n,n)\n",
    "\n",
    "def trans(x):\n",
    "    t = min(1.,max(0.,(x-0.07)*10))\n",
    "    return t\n",
    "\n",
    "for i in range(n):\n",
    "    print(trans(tab0[4,i]))\n",
    "\n",
    "for i in range(4,5):\n",
    "    for j in range(3,n):\n",
    "        plt.plot(X[j][i],Y[j][i],color=gencolor(trans(tab0[i,j]))) \n",
    "\n",
    "plt.show()"
   ]
  },
  {
   "cell_type": "code",
   "execution_count": null,
   "id": "370decad",
   "metadata": {},
   "outputs": [],
   "source": []
  },
  {
   "cell_type": "code",
   "execution_count": null,
   "id": "4b338bf1",
   "metadata": {},
   "outputs": [],
   "source": []
  }
 ],
 "metadata": {
  "kernelspec": {
   "display_name": "Python 3",
   "language": "python",
   "name": "python3"
  },
  "language_info": {
   "codemirror_mode": {
    "name": "ipython",
    "version": 3
   },
   "file_extension": ".py",
   "mimetype": "text/x-python",
   "name": "python",
   "nbconvert_exporter": "python",
   "pygments_lexer": "ipython3",
   "version": "3.6.8"
  }
 },
 "nbformat": 4,
 "nbformat_minor": 5
}
